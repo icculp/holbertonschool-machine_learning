{
 "cells": [
  {
   "cell_type": "code",
   "execution_count": 1,
   "metadata": {
    "collapsed": true,
    "id": "WdrwvZHvB8Lm"
   },
   "outputs": [],
   "source": [
    "import matplotlib.pyplot as plt\n",
    "import numpy as np\n",
    "import pandas as pd\n",
    "# import tensorflow as tf\n",
    "import os\n",
    "# os.environ['KMP_DUPLICATE_LIB_OK']='True'"
   ]
  },
  {
   "cell_type": "code",
   "execution_count": 2,
   "metadata": {
    "collapsed": true,
    "id": "CDjlcchjB8Lo"
   },
   "outputs": [],
   "source": [
    "#import os\n",
    "#os.environ['KMP_DUPLICATE_LIB_OK']='True'"
   ]
  },
  {
   "cell_type": "code",
   "execution_count": 3,
   "metadata": {
    "colab": {
     "base_uri": "https://localhost:8080/"
    },
    "collapsed": false,
    "id": "Z8hj4g-hB8Lp",
    "outputId": "9f7604bf-b54a-43f8-f529-ebf0031349b4"
   },
   "outputs": [
    {
     "data": {
      "text/plain": [
       "[]"
      ]
     },
     "execution_count": 3,
     "metadata": {},
     "output_type": "execute_result"
    }
   ],
   "source": [
    "import tensorflow as tf\n",
    "#print(tf.version)\n",
    "#print(tf.is_gpu_available())\n",
    "tf.config.list_physical_devices('GPU')"
   ]
  },
  {
   "cell_type": "code",
   "execution_count": 4,
   "metadata": {
    "colab": {
     "base_uri": "https://localhost:8080/",
     "height": 195
    },
    "collapsed": false,
    "id": "gNiSYg6SB8Lp",
    "outputId": "de667b2e-b77f-413e-b1a1-f1b9b88f29a3"
   },
   "outputs": [
    {
     "data": {
      "text/html": [
       "<div>\n",
       "<style scoped>\n",
       "    .dataframe tbody tr th:only-of-type {\n",
       "        vertical-align: middle;\n",
       "    }\n",
       "\n",
       "    .dataframe tbody tr th {\n",
       "        vertical-align: top;\n",
       "    }\n",
       "\n",
       "    .dataframe thead th {\n",
       "        text-align: right;\n",
       "    }\n",
       "</style>\n",
       "<table border=\"1\" class=\"dataframe\">\n",
       "  <thead>\n",
       "    <tr style=\"text-align: right;\">\n",
       "      <th></th>\n",
       "      <th>Unnamed: 0</th>\n",
       "      <th>Timestamp</th>\n",
       "      <th>Volume_(Currency)</th>\n",
       "      <th>Weighted_Price</th>\n",
       "    </tr>\n",
       "  </thead>\n",
       "  <tbody>\n",
       "    <tr>\n",
       "      <th>0</th>\n",
       "      <td>0</td>\n",
       "      <td>1417411980</td>\n",
       "      <td>-0.256788</td>\n",
       "      <td>-0.775541</td>\n",
       "    </tr>\n",
       "    <tr>\n",
       "      <th>1</th>\n",
       "      <td>7</td>\n",
       "      <td>1417412400</td>\n",
       "      <td>-0.256788</td>\n",
       "      <td>-0.775541</td>\n",
       "    </tr>\n",
       "    <tr>\n",
       "      <th>2</th>\n",
       "      <td>51</td>\n",
       "      <td>1417415040</td>\n",
       "      <td>-0.256783</td>\n",
       "      <td>-0.757115</td>\n",
       "    </tr>\n",
       "    <tr>\n",
       "      <th>3</th>\n",
       "      <td>77</td>\n",
       "      <td>1417416600</td>\n",
       "      <td>-0.256739</td>\n",
       "      <td>-0.757115</td>\n",
       "    </tr>\n",
       "    <tr>\n",
       "      <th>4</th>\n",
       "      <td>1436</td>\n",
       "      <td>1417498140</td>\n",
       "      <td>-0.256783</td>\n",
       "      <td>-0.755273</td>\n",
       "    </tr>\n",
       "  </tbody>\n",
       "</table>\n",
       "</div>"
      ],
      "text/plain": [
       "   Unnamed: 0   Timestamp  Volume_(Currency)  Weighted_Price\n",
       "0           0  1417411980          -0.256788       -0.775541\n",
       "1           7  1417412400          -0.256788       -0.775541\n",
       "2          51  1417415040          -0.256783       -0.757115\n",
       "3          77  1417416600          -0.256739       -0.757115\n",
       "4        1436  1417498140          -0.256783       -0.755273"
      ]
     },
     "execution_count": 4,
     "metadata": {},
     "output_type": "execute_result"
    }
   ],
   "source": [
    "coinbase = pd.read_csv('coinbase.csv')\n",
    "coinbase.head()\n",
    "#cb = coinbase[['Timestamp', 'Volume_(Currency)', 'Weighted_Price']]\n",
    "#cb.head()"
   ]
  },
  {
   "cell_type": "code",
   "execution_count": 5,
   "metadata": {
    "collapsed": true,
    "id": "IfDbFCcUB8Lp"
   },
   "outputs": [],
   "source": [
    "defaults = [tf.int64, tf.int64, tf.float64, tf.float64]\n",
    "data = tf.data.experimental.CsvDataset('coinbase.csv', record_defaults=defaults, header=True,)\n",
    "\n"
   ]
  },
  {
   "cell_type": "code",
   "execution_count": 6,
   "metadata": {
    "colab": {
     "base_uri": "https://localhost:8080/"
    },
    "collapsed": false,
    "id": "YnKr4-mqB8Lq",
    "outputId": "75b83ba6-f35f-4c99-94b8-42481b4bcd86"
   },
   "outputs": [
    {
     "data": {
      "text/plain": [
       "array([-0.77554102, -0.77554102, -0.75711549, ...,  0.19995982,\n",
       "        0.19988516,  0.1998919 ])"
      ]
     },
     "execution_count": 6,
     "metadata": {},
     "output_type": "execute_result"
    }
   ],
   "source": [
    "weighted_price = coinbase['Weighted_Price'].values\n",
    "weighted_price"
   ]
  },
  {
   "cell_type": "code",
   "execution_count": 7,
   "metadata": {
    "colab": {
     "base_uri": "https://localhost:8080/",
     "height": 278
    },
    "collapsed": false,
    "id": "6GXT6Vs0B8Lq",
    "outputId": "d255fa30-113d-40e0-f34f-80145299bd0b"
   },
   "outputs": [
    {
     "data": {
      "image/png": "[encoded data removed]",
      "text/plain": [
       "<Figure size 640x480 with 1 Axes>"
      ]
     },
     "metadata": {},
     "output_type": "display_data"
    }
   ],
   "source": [
    "plt.plot(weighted_price)\n",
    "plt.show()"
   ]
  },
  {
   "cell_type": "code",
   "execution_count": 8,
   "metadata": {
    "colab": {
     "base_uri": "https://localhost:8080/"
    },
    "collapsed": false,
    "id": "Tf5Vnk8AB8Lq",
    "outputId": "b06cb797-63d0-49e1-854c-6f4a8da47c83"
   },
   "outputs": [
    {
     "name": "stdout",
     "output_type": "stream",
     "text": [
      "(1990691,) 1990691\n"
     ]
    }
   ],
   "source": [
    "length = len(weighted_price)\n",
    "print(weighted_price.shape, length)\n",
    "X_train = []\n",
    "Y_train = []\n",
    "X_test = []\n",
    "for i in range(1000000, length - 10080):\n",
    "    # print(i)\n",
    "    X_train.append(weighted_price[i - 1440])\n",
    "    Y_train.append(weighted_price[i])\n",
    "for i in range(length - 10080, length):\n",
    "    X_test.append(weighted_price[i])\n",
    "X_train = np.array(X_train)#.reshape((-1, 1))\n",
    "X_train = np.reshape(X_train, (X_train.shape[0], 1, 1))\n",
    "Y_train = np.array(Y_train).reshape((-1, 1))\n",
    "X_test = np.array(X_test)\n",
    "X_test = np.reshape(X_test, (X_test.shape[0], 1, 1)) # np.array(X_test).reshape((-1, 1))"
   ]
  },
  {
   "cell_type": "code",
   "execution_count": 9,
   "metadata": {
    "colab": {
     "base_uri": "https://localhost:8080/"
    },
    "collapsed": false,
    "id": "ctERYe98B8Lr",
    "outputId": "f41254ff-f615-4e62-ee5d-781a79095d48"
   },
   "outputs": [
    {
     "name": "stdout",
     "output_type": "stream",
     "text": [
      "Xtrain (980611, 1, 1) [[[-0.59003547]]\n",
      "\n",
      " [[-0.59026332]]\n",
      "\n",
      " [[-0.59020885]]\n",
      "\n",
      " ...\n",
      "\n",
      " [[ 0.15030083]]\n",
      "\n",
      " [[ 0.14973071]]\n",
      "\n",
      " [[ 0.1502212 ]]]\n",
      "Ytrain (980611, 1)\n"
     ]
    }
   ],
   "source": [
    "print(\"Xtrain\", X_train.shape, X_train)\n",
    "print(\"Ytrain\", Y_train.shape)"
   ]
  },
  {
   "cell_type": "code",
   "execution_count": 10,
   "metadata": {
    "colab": {
     "base_uri": "https://localhost:8080/"
    },
    "collapsed": false,
    "id": "PC5AW9XPB8Lr",
    "outputId": "694417f5-255a-4ccc-9a29-a46f57fb7619"
   },
   "outputs": [
    {
     "name": "stdout",
     "output_type": "stream",
     "text": [
      "['_GeneratorState', '__abstractmethods__', '__bool__', '__class__', '__delattr__', '__dict__', '__dir__', '__doc__', '__eq__', '__format__', '__ge__', '__getattribute__', '__gt__', '__hash__', '__init__', '__init_subclass__', '__iter__', '__le__', '__len__', '__lt__', '__module__', '__ne__', '__new__', '__nonzero__', '__reduce__', '__reduce_ex__', '__repr__', '__setattr__', '__sizeof__', '__slots__', '__str__', '__subclasshook__', '__weakref__', '_abc_impl', '_add_variable_with_custom_getter', '_apply_options', '_as_serialized_graph', '_buffer_size', '_checkpoint_dependencies', '_compression_type', '_consumers', '_deferred_dependencies', '_element_spec', '_field_delim', '_filenames', '_flat_shapes', '_flat_structure', '_flat_types', '_functions', '_gather_saveables_for_checkpoint', '_graph', '_graph_attr', '_handle_deferred_dependencies', '_has_captured_ref', '_header', '_inputs', '_list_extra_dependencies_for_serialization', '_list_functions_for_serialization', '_lookup_dependency', '_map_resources', '_maybe_initialize_trackable', '_na_value', '_name_based_attribute_restore', '_name_based_restores', '_no_dependency', '_object_identifier', '_options_attr', '_preload_simple_restoration', '_record_defaults', '_restore_from_checkpoint_position', '_select_cols', '_self_name_based_restores', '_self_saveable_object_factories', '_self_setattr_tracking', '_self_unconditional_checkpoint_dependencies', '_self_unconditional_deferred_dependencies', '_self_unconditional_dependency_names', '_self_update_uid', '_setattr_tracking', '_shape_invariant_to_type_spec', '_single_restoration_from_checkpoint_position', '_tf_api_names', '_tf_api_names_v1', '_trace_variant_creation', '_track_trackable', '_tracking_metadata', '_type_spec', '_unconditional_checkpoint_dependencies', '_unconditional_dependency_names', '_update_uid', '_use_quote_delim', '_variant_tensor', '_variant_tensor_attr', '_variant_tracker', 'apply', 'as_numpy_iterator', 'batch', 'cache', 'cardinality', 'concatenate', 'element_spec', 'enumerate', 'filter', 'flat_map', 'from_generator', 'from_tensor_slices', 'from_tensors', 'interleave', 'list_files', 'map', 'options', 'padded_batch', 'prefetch', 'range', 'reduce', 'repeat', 'shard', 'shuffle', 'skip', 'take', 'unbatch', 'window', 'with_options', 'zip']\n"
     ]
    }
   ],
   "source": [
    "print(dir(data))"
   ]
  },
  {
   "cell_type": "code",
   "execution_count": 11,
   "metadata": {
    "colab": {
     "base_uri": "https://localhost:8080/"
    },
    "collapsed": false,
    "id": "H9KiIC36B8Ls",
    "outputId": "dc7b65c2-4cac-4ba4-ded1-75d89f033e53"
   },
   "outputs": [
    {
     "name": "stdout",
     "output_type": "stream",
     "text": [
      "0 1417411980 -0.25678799584034984 -0.7755410168779436\n",
      "7 1417412400 -0.25678799584034984 -0.7755410168779436\n",
      "51 1417415040 -0.2567830025426573 -0.7571154930096344\n",
      "77 1417416600 -0.25673930726596833 -0.7571154930096344\n",
      "1436 1417498140 -0.25678250321288804 -0.7552729406228035\n",
      "1766 1417517940 -0.24602431850174586 -0.7550138316934053\n",
      "1771 1417518240 -0.2435971299929927 -0.7550097188532562\n",
      "1772 1417518300 -0.24278821576679202 -0.7550097188532562\n",
      "2230 1417545780 -0.2565397576122036 -0.7550097188532562\n"
     ]
    }
   ],
   "source": [
    "for i, o, tw, th in data:\n",
    "    print(i.numpy() , o.numpy(),  tw.numpy(), th.numpy())\n",
    "    if i.numpy() > 2000:\n",
    "        break"
   ]
  },
  {
   "cell_type": "code",
   "execution_count": 19,
   "metadata": {
    "collapsed": false,
    "id": "7Eqf8gunB8Ls",
    "scrolled": true
   },
   "outputs": [],
   "source": [
    "model = tf.keras.Sequential()\n",
    "lstm = tf.keras.layers.LSTM(1440, input_shape = (X_train.shape[0], 1))\n",
    "d = tf.keras.layers.Dense(1)\n",
    "model.add(lstm)\n",
    "model.add(d)\n",
    "model.compile(optimizer='adam', loss='mean_squared_error')"
   ]
  },
  {
   "cell_type": "code",
   "execution_count": 20,
   "metadata": {
    "colab": {
     "base_uri": "https://localhost:8080/"
    },
    "collapsed": false,
    "id": "_G3zt-yrB8Ls",
    "outputId": "a5291896-c5e8-42a5-c5de-6312a7b271b9"
   },
   "outputs": [
    {
     "name": "stdout",
     "output_type": "stream",
     "text": [
      "Xtrain (980611, 1, 1) [[[-0.59003547]]\n",
      "\n",
      " [[-0.59026332]]\n",
      "\n",
      " [[-0.59020885]]\n",
      "\n",
      " ...\n",
      "\n",
      " [[ 0.15030083]]\n",
      "\n",
      " [[ 0.14973071]]\n",
      "\n",
      " [[ 0.1502212 ]]]\n",
      "Ytrain (980611, 1)\n",
      "WARNING:tensorflow:Model was constructed with shape (None, 980611, 1) for input Tensor(\"lstm_1_input:0\", shape=(None, 980611, 1), dtype=float32), but it was called on an input with incompatible shape (None, 1, 1).\n",
      "WARNING:tensorflow:Model was constructed with shape (None, 980611, 1) for input Tensor(\"lstm_1_input:0\", shape=(None, 980611, 1), dtype=float32), but it was called on an input with incompatible shape (None, 1, 1).\n",
      "30645/30645 [==============================] - 1286s 42ms/step - loss: 0.0129\n"
     ]
    },
    {
     "data": {
      "text/plain": [
       "<tensorflow.python.keras.callbacks.History at 0x17d650f1460>"
      ]
     },
     "execution_count": 20,
     "metadata": {},
     "output_type": "execute_result"
    }
   ],
   "source": [
    "print(\"Xtrain\", X_train.shape, X_train)\n",
    "print(\"Ytrain\", Y_train.shape)\n",
    "model.fit(X_train, Y_train, epochs = 1, batch_size = 32)"
   ]
  },
  {
   "cell_type": "code",
   "execution_count": 21,
   "metadata": {
    "colab": {
     "base_uri": "https://localhost:8080/"
    },
    "collapsed": false,
    "id": "3E7sDEbQB8Lt",
    "outputId": "f9cd4c8c-84c2-48a5-acce-0dcdb3c65470"
   },
   "outputs": [
    {
     "name": "stdout",
     "output_type": "stream",
     "text": [
      "False\n"
     ]
    }
   ],
   "source": [
    "print(tf.test.is_gpu_available())"
   ]
  },
  {
   "cell_type": "code",
   "execution_count": 22,
   "metadata": {
    "collapsed": true,
    "id": "FH1Xhzi2Rlqz"
   },
   "outputs": [],
   "source": [
    "#bitstamp = pd.read_csv('bitstamp.csv')\n",
    "#bitstamp.head()"
   ]
  },
  {
   "cell_type": "code",
   "execution_count": 23,
   "metadata": {
    "collapsed": true,
    "id": "X-YkNCMzSCNd"
   },
   "outputs": [],
   "source": [
    "#test_price = bitstamp['Weighted_Price'].values\n",
    "#X_test = test_price[:len(test_price) - 1440]\n",
    "#X_test = np.reshape(X_train, (X_train.shape[0], 1, 1))\n",
    "#X_test.shape"
   ]
  },
  {
   "cell_type": "code",
   "execution_count": 24,
   "metadata": {
    "colab": {
     "base_uri": "https://localhost:8080/"
    },
    "collapsed": false,
    "id": "zoIYJYqxB8Lt",
    "outputId": "876eb76b-02fc-49e6-bb47-a1ca2e1c33d5"
   },
   "outputs": [
    {
     "name": "stdout",
     "output_type": "stream",
     "text": [
      "WARNING:tensorflow:Model was constructed with shape (None, 980611, 1) for input Tensor(\"lstm_1_input:0\", shape=(None, 980611, 1), dtype=float32), but it was called on an input with incompatible shape (32, 1, 1).\n",
      "(10080, 1)\n"
     ]
    }
   ],
   "source": [
    "predicted = model.predict(X_test)\n",
    "print(predicted.shape)"
   ]
  },
  {
   "cell_type": "code",
   "execution_count": 25,
   "metadata": {
    "colab": {
     "base_uri": "https://localhost:8080/",
     "height": 265
    },
    "collapsed": false,
    "id": "Jb9rRR1WTayd",
    "outputId": "0fac1c72-d04a-4a8a-d05e-5d19e82afd1d"
   },
   "outputs": [
    {
     "data": {
      "image/png": "[encoded data removed]",
      "text/plain": [
       "<Figure size 640x480 with 1 Axes>"
      ]
     },
     "metadata": {},
     "output_type": "display_data"
    }
   ],
   "source": [
    "plt.plot(X_test.flatten(), color='blue')\n",
    "plt.plot(predicted.flatten(), color='green')\n",
    "plt.show()"
   ]
  },
  {
   "cell_type": "code",
   "execution_count": null,
   "metadata": {
    "collapsed": true
   },
   "outputs": [],
   "source": []
  },
  {
   "cell_type": "code",
   "execution_count": null,
   "metadata": {
    "collapsed": true
   },
   "outputs": [],
   "source": []
  },
  {
   "cell_type": "code",
   "execution_count": null,
   "metadata": {
    "collapsed": true
   },
   "outputs": [],
   "source": []
  },
  {
   "cell_type": "code",
   "execution_count": null,
   "metadata": {
    "collapsed": true
   },
   "outputs": [],
   "source": []
  }
 ],
 "metadata": {
  "accelerator": "GPU",
  "anaconda-cloud": {},
  "colab": {
   "name": "forecast_btc.ipynb",
   "provenance": []
  },
  "kernelspec": {
   "display_name": "Python [conda env:tensorflow]",
   "language": "python",
   "name": "conda-env-tensorflow-py"
  },
  "language_info": {
   "codemirror_mode": {
    "name": "ipython",
    "version": 3
   },
   "file_extension": ".py",
   "mimetype": "text/x-python",
   "name": "python",
   "nbconvert_exporter": "python",
   "pygments_lexer": "ipython3",
   "version": "3.8.8"
  }
 },
 "nbformat": 4,
 "nbformat_minor": 5
}
