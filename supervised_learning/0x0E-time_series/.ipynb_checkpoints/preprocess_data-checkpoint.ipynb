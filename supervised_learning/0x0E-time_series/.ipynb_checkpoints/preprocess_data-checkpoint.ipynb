{
 "cells": [
  {
   "cell_type": "code",
   "execution_count": 1,
   "id": "01892394",
   "metadata": {},
   "outputs": [],
   "source": [
    "import pandas as pd\n",
    "\n",
    "    \n"
   ]
  },
  {
   "cell_type": "code",
   "execution_count": 5,
   "id": "25206736",
   "metadata": {},
   "outputs": [],
   "source": [
    "def preprocess_data(data_fn, clean_fn):\n",
    "    ''' preprocess time series csv '''\n",
    "    # coinbase_fp = 'coinbaseUSD_1-min_data_2014-12-01_to_2019-01-09.csv'\n",
    "    df = pd.read_csv(data_fn)\n",
    "    clean = df.dropna(axis=0)\n",
    "    normal = (clean - clean.mean()) / clean.std()\n",
    "    normal['Timestamp'] = clean['Timestamp']\n",
    "    processed = normal[['Timestamp', 'Volume_(Currency)', 'Weighted_Price']]\n",
    "    processed.to_csv(clean_fn)\n",
    "    processed.head()"
   ]
  },
  {
   "cell_type": "code",
   "execution_count": 6,
   "id": "0b756ea3",
   "metadata": {},
   "outputs": [
    {
     "data": {
      "text/plain": [
       "\"coinbase_fp = 'bitstampUSD_1-min_data_2012-01-01_to_2020-04-22.csv'\\ncoinbase_df = pd.read_csv(coinbase_fp)\\nclean_coinbase = coinbase_df.dropna(axis=0)\\nnormal_coinbase = (clean_coinbase - clean_coinbase.mean()) / clean_coinbase.std()\\nnormal_coinbase['Timestamp'] = clean_coinbase['Timestamp']\\nnormal.to_csv(clean_fn)\\n# normal.head()\""
      ]
     },
     "execution_count": 6,
     "metadata": {},
     "output_type": "execute_result"
    }
   ],
   "source": [
    "'''coinbase_fp = 'bitstampUSD_1-min_data_2012-01-01_to_2020-04-22.csv'\n",
    "coinbase_df = pd.read_csv(coinbase_fp)\n",
    "clean_coinbase = coinbase_df.dropna(axis=0)\n",
    "normal_coinbase = (clean_coinbase - clean_coinbase.mean()) / clean_coinbase.std()\n",
    "normal_coinbase['Timestamp'] = clean_coinbase['Timestamp']\n",
    "normal.to_csv(clean_fn)\n",
    "# normal.head()'''"
   ]
  },
  {
   "cell_type": "code",
   "execution_count": 7,
   "id": "748f5e62",
   "metadata": {},
   "outputs": [],
   "source": [
    "coinbase = 'coinbaseUSD_1-min_data_2014-12-01_to_2019-01-09.csv'\n",
    "bitstamp = 'bitstampUSD_1-min_data_2012-01-01_to_2020-04-22.csv'\n",
    "preprocess_data(coinbase, 'coinbase.csv')\n",
    "preprocess_data(bitstamp, 'bitstamp.csv')"
   ]
  },
  {
   "cell_type": "code",
   "execution_count": null,
   "id": "55e32835",
   "metadata": {},
   "outputs": [],
   "source": []
  }
 ],
 "metadata": {
  "kernelspec": {
   "display_name": "akTwelve",
   "language": "python",
   "name": "aktwelve"
  },
  "language_info": {
   "codemirror_mode": {
    "name": "ipython",
    "version": 3
   },
   "file_extension": ".py",
   "mimetype": "text/x-python",
   "name": "python",
   "nbconvert_exporter": "python",
   "pygments_lexer": "ipython3",
   "version": "3.6.13"
  }
 },
 "nbformat": 4,
 "nbformat_minor": 5
}
