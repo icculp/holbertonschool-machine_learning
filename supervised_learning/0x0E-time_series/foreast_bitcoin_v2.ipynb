{
  "nbformat": 4,
  "nbformat_minor": 0,
  "metadata": {
    "kernelspec": {
      "display_name": "Python [conda env:tensorflow]",
      "language": "python",
      "name": "conda-env-tensorflow-py"
    },
    "language_info": {
      "codemirror_mode": {
        "name": "ipython",
        "version": 3
      },
      "file_extension": ".py",
      "mimetype": "text/x-python",
      "name": "python",
      "nbconvert_exporter": "python",
      "pygments_lexer": "ipython3",
      "version": "3.8.8"
    },
    "colab": {
      "name": "foreast_bitcoin_v2.ipynb",
      "provenance": [],
      "include_colab_link": true
    },
    "accelerator": "GPU"
  },
  "cells": [
    {
      "cell_type": "markdown",
      "metadata": {
        "id": "view-in-github",
        "colab_type": "text"
      },
      "source": [
        "<a href=\"https://colab.research.google.com/github/icculp/holbertonschool-machine_learning/blob/main/supervised_learning/0x0E-time_series/foreast_bitcoin_v2.ipynb\" target=\"_parent\"><img src=\"https://colab.research.google.com/assets/colab-badge.svg\" alt=\"Open In Colab\"/></a>"
      ]
    },
    {
      "cell_type": "code",
      "metadata": {
        "collapsed": true,
        "id": "VCIe7vEjvHdl"
      },
      "source": [
        "import numpy as np\n",
        "import pandas as pd\n",
        "import tensorflow as tf\n",
        "import matplotlib.pyplot as plt\n",
        "from sklearn.decomposition import PCA"
      ],
      "execution_count": 40,
      "outputs": []
    },
    {
      "cell_type": "code",
      "metadata": {
        "colab": {
          "base_uri": "https://localhost:8080/"
        },
        "id": "ZfeU3qdEvHdn",
        "outputId": "b7322f50-200b-45a5-bf4b-89c5ac1fecb9"
      },
      "source": [
        "df = pd.read_csv('coinbase.csv')\n",
        "print(df.head)\n",
        "print(df.columns)\n",
        "columns = df.columns"
      ],
      "execution_count": 13,
      "outputs": [
        {
          "output_type": "stream",
          "text": [
            "<bound method NDFrame.head of           Timestamp     Open  ...  Volume_(Currency)  Weighted_Price\n",
            "0        1417411980   300.00  ...           3.000000      300.000000\n",
            "1        1417412400   300.00  ...           3.000000      300.000000\n",
            "2        1417415040   370.00  ...           3.700000      370.000000\n",
            "3        1417416600   370.00  ...           9.825550      370.000000\n",
            "4        1417498140   377.00  ...           3.770000      377.000000\n",
            "...             ...      ...  ...                ...             ...\n",
            "1990686  1546898520  4006.01  ...       13553.433078     4006.390309\n",
            "1990687  1546898580  4006.01  ...        3614.083169     4006.017233\n",
            "1990688  1546898640  4006.01  ...        4775.647308     4006.003635\n",
            "1990689  1546898700  4006.01  ...       10814.241898     4005.719991\n",
            "1990690  1546898760  4005.51  ...        7021.183546     4005.745614\n",
            "\n",
            "[1990691 rows x 8 columns]>\n",
            "Index(['Timestamp', 'Open', 'High', 'Low', 'Close', 'Volume_(BTC)',\n",
            "       'Volume_(Currency)', 'Weighted_Price'],\n",
            "      dtype='object')\n"
          ],
          "name": "stdout"
        }
      ]
    },
    {
      "cell_type": "code",
      "metadata": {
        "id": "hpvVwWBavHdp"
      },
      "source": [
        "''' keep datetime for plot x-axis '''\n",
        "date_time = pd.to_datetime(df.pop('Timestamp'), unit='s') # format='%d.%m.%Y %H:%M:%S')"
      ],
      "execution_count": 14,
      "outputs": []
    },
    {
      "cell_type": "code",
      "metadata": {
        "scrolled": true,
        "colab": {
          "base_uri": "https://localhost:8080/"
        },
        "id": "pfEirHOQvHdq",
        "outputId": "41331d6f-3f3c-476a-9cb8-42467e2f4e9a"
      },
      "source": [
        "print(date_time)"
      ],
      "execution_count": 15,
      "outputs": [
        {
          "output_type": "stream",
          "text": [
            "0         2014-12-01 05:33:00\n",
            "1         2014-12-01 05:40:00\n",
            "2         2014-12-01 06:24:00\n",
            "3         2014-12-01 06:50:00\n",
            "4         2014-12-02 05:29:00\n",
            "                  ...        \n",
            "1990686   2019-01-07 22:02:00\n",
            "1990687   2019-01-07 22:03:00\n",
            "1990688   2019-01-07 22:04:00\n",
            "1990689   2019-01-07 22:05:00\n",
            "1990690   2019-01-07 22:06:00\n",
            "Name: Timestamp, Length: 1990691, dtype: datetime64[ns]\n"
          ],
          "name": "stdout"
        }
      ]
    },
    {
      "cell_type": "code",
      "metadata": {
        "id": "VIVEpNgfvHdq"
      },
      "source": [
        "''' perform dimensionality reduction using PCA '''\n",
        "pca = PCA(n_components=2, svd_solver='full')\n",
        "df = pd.DataFrame(pca.fit_transform(df), columns=columns[:2])"
      ],
      "execution_count": 16,
      "outputs": []
    },
    {
      "cell_type": "code",
      "metadata": {
        "id": "cBSstSdkvHdr"
      },
      "source": [
        "column_indices = {name: i for i, name in enumerate(df.columns)}\n",
        "\n",
        "n = len(df)\n",
        "train_df = df[0:int(n*0.7)]\n",
        "val_df = df[int(n*0.7):int(n*0.9)]\n",
        "test_df = df[int(n*0.9):]\n",
        "\n",
        "num_features = df.shape[1]"
      ],
      "execution_count": 17,
      "outputs": []
    },
    {
      "cell_type": "code",
      "metadata": {
        "collapsed": true,
        "id": "2vjjsyeyvHdr"
      },
      "source": [
        ""
      ],
      "execution_count": 17,
      "outputs": []
    },
    {
      "cell_type": "code",
      "metadata": {
        "id": "ALVpWOsNvHdr"
      },
      "source": [
        "class WindowGenerator():\n",
        "    def __init__(self, input_width, label_width, shift,\n",
        "                 train_df=train_df, val_df=val_df, test_df=test_df,\n",
        "                 label_columns=None):\n",
        "    # Store the raw data.\n",
        "        self.train_df = train_df\n",
        "        self.val_df = val_df\n",
        "        self.test_df = test_df\n",
        "\n",
        "        # Work out the label column indices.\n",
        "        self.label_columns = label_columns\n",
        "        if label_columns is not None:\n",
        "          self.label_columns_indices = {name: i for i, name in\n",
        "                                        enumerate(label_columns)}\n",
        "        self.column_indices = {name: i for i, name in\n",
        "                               enumerate(train_df.columns)}\n",
        "\n",
        "        # Work out the window parameters.\n",
        "        self.input_width = input_width\n",
        "        self.label_width = label_width\n",
        "        self.shift = shift\n",
        "\n",
        "        self.total_window_size = input_width + shift\n",
        "\n",
        "        self.input_slice = slice(0, input_width)\n",
        "        self.input_indices = np.arange(self.total_window_size)[self.input_slice]\n",
        "\n",
        "        self.label_start = self.total_window_size - self.label_width\n",
        "        self.labels_slice = slice(self.label_start, None)\n",
        "        self.label_indices = np.arange(self.total_window_size)[self.labels_slice]\n",
        "\n",
        "    def __repr__(self):\n",
        "        return '\\n'.join([\n",
        "            f'Total window size: {self.total_window_size}',\n",
        "            f'Input indices: {self.input_indices}',\n",
        "            f'Label indices: {self.label_indices}',\n",
        "            f'Label column name(s): {self.label_columns}'])"
      ],
      "execution_count": 18,
      "outputs": []
    },
    {
      "cell_type": "code",
      "metadata": {
        "collapsed": true,
        "id": "-cFmDhiwvHds"
      },
      "source": [
        "def split_window(self, features):\n",
        "  inputs = features[:, self.input_slice, :]\n",
        "  labels = features[:, self.labels_slice, :]\n",
        "  if self.label_columns is not None:\n",
        "    labels = tf.stack(\n",
        "        [labels[:, :, self.column_indices[name]] for name in self.label_columns],\n",
        "        axis=-1)\n",
        "\n",
        "  # Slicing doesn't preserve static shape information, so set the shapes\n",
        "  # manually. This way the `tf.data.Datasets` are easier to inspect.\n",
        "  inputs.set_shape([None, self.input_width, None])\n",
        "  labels.set_shape([None, self.label_width, None])\n",
        "\n",
        "  return inputs, labels\n",
        "\n",
        "WindowGenerator.split_window = split_window"
      ],
      "execution_count": 19,
      "outputs": []
    },
    {
      "cell_type": "code",
      "metadata": {
        "collapsed": true,
        "id": "GU-LgR9tvHdt"
      },
      "source": [
        "def plot(self, model=None, plot_col='Open', max_subplots=3):\n",
        "  inputs, labels = self.example\n",
        "  plt.figure(figsize=(12, 8))\n",
        "  plot_col_index = self.column_indices[plot_col]\n",
        "  max_n = min(max_subplots, len(inputs))\n",
        "  for n in range(max_n):\n",
        "    plt.subplot(max_n, 1, n+1)\n",
        "    plt.ylabel(f'{plot_col} [normed]')\n",
        "    plt.plot(self.input_indices, inputs[n, :, plot_col_index],\n",
        "             label='Inputs', marker='.', zorder=-10)\n",
        "\n",
        "    if self.label_columns:\n",
        "      label_col_index = self.label_columns_indices.get(plot_col, None)\n",
        "    else:\n",
        "      label_col_index = plot_col_index\n",
        "\n",
        "    if label_col_index is None:\n",
        "      continue\n",
        "\n",
        "    plt.scatter(self.label_indices, labels[n, :, label_col_index],\n",
        "                edgecolors='k', label='Labels', c='#2ca02c', s=64)\n",
        "    if model is not None:\n",
        "      predictions = model(inputs)\n",
        "      plt.scatter(self.label_indices, predictions[n, label_col_index],\n",
        "                  marker='X', edgecolors='k', label='Predictions',\n",
        "                  c='#ff7f0e', s=64)\n",
        "\n",
        "    if n == 0:\n",
        "      plt.legend()\n",
        "\n",
        "  plt.xlabel('Time [h]')\n",
        "\n",
        "WindowGenerator.plot = plot"
      ],
      "execution_count": 44,
      "outputs": []
    },
    {
      "cell_type": "code",
      "metadata": {
        "collapsed": true,
        "id": "M11kYaayvHdt"
      },
      "source": [
        "def make_dataset(self, data):\n",
        "  data = np.array(data, dtype=np.float32)\n",
        "  ds = tf.keras.preprocessing.timeseries_dataset_from_array(\n",
        "      data=data,\n",
        "      targets=None,\n",
        "      sequence_length=self.total_window_size,\n",
        "      sequence_stride=1,\n",
        "      shuffle=True,\n",
        "      batch_size=32,)\n",
        "\n",
        "  ds = ds.map(self.split_window)\n",
        "\n",
        "  return ds\n",
        "\n",
        "WindowGenerator.make_dataset = make_dataset"
      ],
      "execution_count": 21,
      "outputs": []
    },
    {
      "cell_type": "code",
      "metadata": {
        "collapsed": true,
        "id": "tRAwel3OvHdu"
      },
      "source": [
        "@property\n",
        "def train(self):\n",
        "  return self.make_dataset(self.train_df)\n",
        "\n",
        "@property\n",
        "def val(self):\n",
        "  return self.make_dataset(self.val_df)\n",
        "\n",
        "@property\n",
        "def test(self):\n",
        "  return self.make_dataset(self.test_df)\n",
        "\n",
        "@property\n",
        "def example(self):\n",
        "  \"\"\"Get and cache an example batch of `inputs, labels` for plotting.\"\"\"\n",
        "  result = getattr(self, '_example', None)\n",
        "  if result is None:\n",
        "    # No example batch was found, so get one from the `.train` dataset\n",
        "    result = next(iter(self.train))\n",
        "    # And cache it for next time\n",
        "    self._example = result\n",
        "  return result\n",
        "\n",
        "WindowGenerator.train = train\n",
        "WindowGenerator.val = val\n",
        "WindowGenerator.test = test\n",
        "WindowGenerator.example = example"
      ],
      "execution_count": 22,
      "outputs": []
    },
    {
      "cell_type": "code",
      "metadata": {
        "colab": {
          "base_uri": "https://localhost:8080/"
        },
        "id": "WrET01DjvHdu",
        "outputId": "3b6b4a87-fd18-444e-85c2-8b096adef6a0"
      },
      "source": [
        "#LABEL_WIDTH = 24\n",
        "#INPUT_WIDTH = LABEL_WIDTH + (CONV_WIDTH - 1)\n",
        "wide_window = WindowGenerator(\n",
        "    input_width=24,\n",
        "    label_width=1,\n",
        "    shift=1,\n",
        "    label_columns=['Open'])\n",
        "\n",
        "wide_window"
      ],
      "execution_count": 24,
      "outputs": [
        {
          "output_type": "execute_result",
          "data": {
            "text/plain": [
              "Total window size: 25\n",
              "Input indices: [ 0  1  2  3  4  5  6  7  8  9 10 11 12 13 14 15 16 17 18 19 20 21 22 23]\n",
              "Label indices: [24]\n",
              "Label column name(s): ['Open']"
            ]
          },
          "metadata": {
            "tags": []
          },
          "execution_count": 24
        }
      ]
    },
    {
      "cell_type": "code",
      "metadata": {
        "collapsed": true,
        "id": "wcH6JagdvHdv"
      },
      "source": [
        "lstm_model = tf.keras.models.Sequential([\n",
        "    # Shape [batch, time, features] => [batch, time, lstm_units]\n",
        "    tf.keras.layers.LSTM(24, return_sequences=False),\n",
        "    # Shape => [batch, time, features]\n",
        "    tf.keras.layers.Dense(units=1)\n",
        "])"
      ],
      "execution_count": 33,
      "outputs": []
    },
    {
      "cell_type": "code",
      "metadata": {
        "colab": {
          "base_uri": "https://localhost:8080/"
        },
        "id": "zKVZsbOTvHdv",
        "outputId": "e5550388-20f0-4f6b-baa0-fd26ecc88008"
      },
      "source": [
        "print('Input shape:', wide_window.example[0].shape)\n",
        "print('Output shape:', lstm_model(wide_window.example[0]).shape)"
      ],
      "execution_count": 34,
      "outputs": [
        {
          "output_type": "stream",
          "text": [
            "Input shape: (32, 24, 2)\n",
            "Output shape: (32, 1)\n"
          ],
          "name": "stdout"
        }
      ]
    },
    {
      "cell_type": "code",
      "metadata": {
        "collapsed": true,
        "id": "XhjMEMACvHdw"
      },
      "source": [
        "MAX_EPOCHS = 10\n",
        "\n",
        "def compile_and_fit(model, window, patience=2):\n",
        "  early_stopping = tf.keras.callbacks.EarlyStopping(monitor='val_loss',\n",
        "                                                    patience=patience,\n",
        "                                                    mode='min')\n",
        "\n",
        "  model.compile(loss=tf.losses.MeanSquaredError(),\n",
        "                optimizer=tf.optimizers.Adam(),\n",
        "                metrics=[tf.metrics.MeanAbsoluteError()])\n",
        "\n",
        "  history = model.fit(window.train, epochs=MAX_EPOCHS,\n",
        "                      validation_data=window.val,\n",
        "                      callbacks=[early_stopping])\n",
        "  return history"
      ],
      "execution_count": 35,
      "outputs": []
    },
    {
      "cell_type": "code",
      "metadata": {
        "colab": {
          "base_uri": "https://localhost:8080/"
        },
        "id": "7J8oL0yawTC2",
        "outputId": "97d2044b-2e94-4325-8693-986818e78d66"
      },
      "source": [
        "tf.config.list_physical_devices('GPU')"
      ],
      "execution_count": 36,
      "outputs": [
        {
          "output_type": "execute_result",
          "data": {
            "text/plain": [
              "[PhysicalDevice(name='/physical_device:GPU:0', device_type='GPU')]"
            ]
          },
          "metadata": {
            "tags": []
          },
          "execution_count": 36
        }
      ]
    },
    {
      "cell_type": "code",
      "metadata": {
        "colab": {
          "base_uri": "https://localhost:8080/"
        },
        "id": "EWOgTokXvHdw",
        "outputId": "07183aab-dad4-4829-a582-a611f764a02e"
      },
      "source": [
        "history = compile_and_fit(lstm_model, wide_window)\n",
        "val_performance = {}\n",
        "performance = {}\n",
        "# IPython.display.clear_output()\n",
        "val_performance['LSTM'] = lstm_model.evaluate(wide_window.val)\n",
        "performance['LSTM'] = lstm_model.evaluate(wide_window.test, verbose=0)"
      ],
      "execution_count": 37,
      "outputs": [
        {
          "output_type": "stream",
          "text": [
            "Epoch 1/10\n",
            "43546/43546 [==============================] - 301s 7ms/step - loss: 23618652.7939 - mean_absolute_error: 4600.9978 - val_loss: 188331728.0000 - val_mean_absolute_error: 11990.5049\n",
            "Epoch 2/10\n",
            "43546/43546 [==============================] - 295s 7ms/step - loss: 17033704.3114 - mean_absolute_error: 3852.6803 - val_loss: 179669744.0000 - val_mean_absolute_error: 11582.1660\n",
            "Epoch 3/10\n",
            "43546/43546 [==============================] - 293s 7ms/step - loss: 11756881.5621 - mean_absolute_error: 3146.8251 - val_loss: 171034304.0000 - val_mean_absolute_error: 11159.4893\n",
            "Epoch 4/10\n",
            "43546/43546 [==============================] - 285s 7ms/step - loss: 7610548.1460 - mean_absolute_error: 2460.0146 - val_loss: 163537984.0000 - val_mean_absolute_error: 10768.1426\n",
            "Epoch 5/10\n",
            "43546/43546 [==============================] - 289s 7ms/step - loss: 4584136.7841 - mean_absolute_error: 1802.5935 - val_loss: 154268592.0000 - val_mean_absolute_error: 10298.4727\n",
            "Epoch 6/10\n",
            "43546/43546 [==============================] - 289s 7ms/step - loss: 2617037.7247 - mean_absolute_error: 1207.4993 - val_loss: 147324448.0000 - val_mean_absolute_error: 9928.4951\n",
            "Epoch 7/10\n",
            "43546/43546 [==============================] - 288s 7ms/step - loss: 1634490.0969 - mean_absolute_error: 738.5542 - val_loss: 139955120.0000 - val_mean_absolute_error: 9496.6162\n",
            "Epoch 8/10\n",
            "43546/43546 [==============================] - 291s 7ms/step - loss: 1340732.6106 - mean_absolute_error: 563.9348 - val_loss: 131538712.0000 - val_mean_absolute_error: 9014.0029\n",
            "Epoch 9/10\n",
            "43546/43546 [==============================] - 288s 7ms/step - loss: 1231263.6668 - mean_absolute_error: 553.6033 - val_loss: 125131296.0000 - val_mean_absolute_error: 8756.5674\n",
            "Epoch 10/10\n",
            "43546/43546 [==============================] - 287s 7ms/step - loss: 1109822.2215 - mean_absolute_error: 490.8855 - val_loss: 123753680.0000 - val_mean_absolute_error: 8667.5654\n",
            "12442/12442 [==============================] - 49s 4ms/step - loss: 123754008.0000 - mean_absolute_error: 8667.6221\n"
          ],
          "name": "stdout"
        }
      ]
    },
    {
      "cell_type": "code",
      "metadata": {
        "collapsed": true,
        "colab": {
          "base_uri": "https://localhost:8080/",
          "height": 497
        },
        "id": "bDZ0G4avvHdw",
        "outputId": "6e5b7f51-2fe4-42bd-b724-cb214b92083d"
      },
      "source": [
        " wide_window.plot(lstm_model)"
      ],
      "execution_count": 45,
      "outputs": [
        {
          "output_type": "display_data",
          "data": {
            "image/png": "[encoded data removed]",
            "text/plain": [
              "<Figure size 864x576 with 3 Axes>"
            ]
          },
          "metadata": {
            "tags": [],
            "needs_background": "light"
          }
        }
      ]
    }
  ]
}