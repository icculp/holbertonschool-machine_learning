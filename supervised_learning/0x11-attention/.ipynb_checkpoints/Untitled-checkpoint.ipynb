{
 "cells": [
  {
   "cell_type": "code",
   "execution_count": 15,
   "id": "33850223",
   "metadata": {},
   "outputs": [],
   "source": [
    "import tensorflow as tf\n",
    "\n",
    "\n",
    "# print('rnn 8')\n",
    "class RNNEncoder(tf.keras.layers.Layer):\n",
    "    \"\"\" RNN encoder for machine translation \"\"\"\n",
    "\n",
    "    def __init__(self, vocab, embedding, units, batch):\n",
    "        \"\"\"\n",
    "            vocab: int representing the size of the input vocabulary\n",
    "            embedding: int representing the dimensionality of embedding vector\n",
    "            units: int representing the number of hidden units in the RNN cell\n",
    "            batch: int representing the batch size\n",
    "\n",
    "            Sets the following public instance attributes:\n",
    "            batch - the batch size\n",
    "            units - the number of hidden units in the RNN cell\n",
    "            embedding - a keras Embedding layer that converts words from the\n",
    "                vocabulary into an embedding vector\n",
    "            gru - a keras GRU layer with units units\n",
    "            Should return both the full sequence of outputs as well\n",
    "                as the last hidden state\n",
    "            Recurrent weights should be initialized with glorot_uniform\n",
    "        \"\"\"\n",
    "        self.batch = batch\n",
    "        self.units = units\n",
    "        print('27')\n",
    "        self.embedding = tf.keras.layers.Embedding(input_dim=vocab, output_dim=embedding, input_length=units)\n",
    "        print('29')\n",
    "        self.gru = tf.keras.layers.GRU(units, return_sequences=True,\n",
    "                                       return_state=True, kernel_initializer='glorot_uniform')\n",
    "        print('32')\n",
    "\n",
    "    def initialize_hidden_state(self):\n",
    "        \"\"\" Initializes the hidden states for the RNN cell to a tensor of zeros\n",
    "            Returns: a tensor of shape (batch, units)\n",
    "                containing the initialized hidden states\n",
    "        \"\"\"\n",
    "        print('39')\n",
    "        t = tf.zeros((self.batch, self.units))\n",
    "        print('41')\n",
    "        return t\n",
    "\n",
    "    def call(self, x, initial):\n",
    "        \"\"\"\n",
    "            x is a tensor of shape (batch, input_seq_len)\n",
    "                containing input to encoder layer as word indices within the vocabulary\n",
    "            initial is a tensor of shape (batch, units) containing the initial hidden state\n",
    "            Returns: outputs, hidden\n",
    "                outputs is a tensor (batch, input_seq_len, units)\n",
    "                    containing the outputs of the encoder\n",
    "                hidden is a tensor (batch, units)\n",
    "                    containing the last hidden state of the encoder\n",
    "        \"\"\"\n",
    "        print('did we get called?')\n",
    "        hidden = self.embedding(x)\n",
    "        outputs = self.gru(hidden)\n",
    "        return outputs, hidden"
   ]
  },
  {
   "cell_type": "code",
   "execution_count": 16,
   "id": "64e6fd56",
   "metadata": {},
   "outputs": [
    {
     "name": "stdout",
     "output_type": "stream",
     "text": [
      "27\n",
      "29\n",
      "32\n",
      "32\n",
      "256\n",
      "<class 'tensorflow.python.keras.layers.embeddings.Embedding'>\n",
      "<class 'tensorflow.python.keras.layers.recurrent.GRU'>\n",
      "39\n",
      "Tensor(\"zeros_7:0\", shape=(32, 256), dtype=float32)\n"
     ]
    },
    {
     "ename": "AttributeError",
     "evalue": "'RNNEncoder' object has no attribute '_expects_mask_arg'",
     "output_type": "error",
     "traceback": [
      "\u001b[1;31m---------------------------------------------------------------------------\u001b[0m",
      "\u001b[1;31mAttributeError\u001b[0m                            Traceback (most recent call last)",
      "\u001b[1;32m<ipython-input-16-c2a3d9ad4df7>\u001b[0m in \u001b[0;36m<module>\u001b[1;34m\u001b[0m\n\u001b[0;32m     13\u001b[0m \u001b[0mprint\u001b[0m\u001b[1;33m(\u001b[0m\u001b[0minitial\u001b[0m\u001b[1;33m)\u001b[0m\u001b[1;33m\u001b[0m\u001b[1;33m\u001b[0m\u001b[0m\n\u001b[0;32m     14\u001b[0m \u001b[0mx\u001b[0m \u001b[1;33m=\u001b[0m \u001b[0mtf\u001b[0m\u001b[1;33m.\u001b[0m\u001b[0mconvert_to_tensor\u001b[0m\u001b[1;33m(\u001b[0m\u001b[0mnp\u001b[0m\u001b[1;33m.\u001b[0m\u001b[0mrandom\u001b[0m\u001b[1;33m.\u001b[0m\u001b[0mchoice\u001b[0m\u001b[1;33m(\u001b[0m\u001b[1;36m1024\u001b[0m\u001b[1;33m,\u001b[0m \u001b[1;36m320\u001b[0m\u001b[1;33m)\u001b[0m\u001b[1;33m.\u001b[0m\u001b[0mreshape\u001b[0m\u001b[1;33m(\u001b[0m\u001b[1;33m(\u001b[0m\u001b[1;36m32\u001b[0m\u001b[1;33m,\u001b[0m \u001b[1;36m10\u001b[0m\u001b[1;33m)\u001b[0m\u001b[1;33m)\u001b[0m\u001b[1;33m)\u001b[0m\u001b[1;33m\u001b[0m\u001b[1;33m\u001b[0m\u001b[0m\n\u001b[1;32m---> 15\u001b[1;33m \u001b[0moutputs\u001b[0m\u001b[1;33m,\u001b[0m \u001b[0mhidden\u001b[0m \u001b[1;33m=\u001b[0m \u001b[0mencoder\u001b[0m\u001b[1;33m(\u001b[0m\u001b[0mx\u001b[0m\u001b[1;33m,\u001b[0m \u001b[0minitial\u001b[0m\u001b[1;33m)\u001b[0m\u001b[1;33m\u001b[0m\u001b[1;33m\u001b[0m\u001b[0m\n\u001b[0m\u001b[0;32m     16\u001b[0m \u001b[0mprint\u001b[0m\u001b[1;33m(\u001b[0m\u001b[0moutputs\u001b[0m\u001b[1;33m)\u001b[0m\u001b[1;33m\u001b[0m\u001b[1;33m\u001b[0m\u001b[0m\n\u001b[0;32m     17\u001b[0m \u001b[0mprint\u001b[0m\u001b[1;33m(\u001b[0m\u001b[0mhidden\u001b[0m\u001b[1;33m)\u001b[0m\u001b[1;33m\u001b[0m\u001b[1;33m\u001b[0m\u001b[0m\n",
      "\u001b[1;32m~\\.conda\\envs\\tf_gpu_1.15\\lib\\site-packages\\tensorflow_core\\python\\keras\\engine\\base_layer.py\u001b[0m in \u001b[0;36m__call__\u001b[1;34m(self, inputs, *args, **kwargs)\u001b[0m\n\u001b[0;32m    759\u001b[0m     \u001b[0mmask_arg_passed_by_framework\u001b[0m \u001b[1;33m=\u001b[0m \u001b[1;32mFalse\u001b[0m\u001b[1;33m\u001b[0m\u001b[1;33m\u001b[0m\u001b[0m\n\u001b[0;32m    760\u001b[0m     \u001b[0minput_masks\u001b[0m \u001b[1;33m=\u001b[0m \u001b[0mself\u001b[0m\u001b[1;33m.\u001b[0m\u001b[0m_collect_input_masks\u001b[0m\u001b[1;33m(\u001b[0m\u001b[0minputs\u001b[0m\u001b[1;33m,\u001b[0m \u001b[0margs\u001b[0m\u001b[1;33m,\u001b[0m \u001b[0mkwargs\u001b[0m\u001b[1;33m)\u001b[0m\u001b[1;33m\u001b[0m\u001b[1;33m\u001b[0m\u001b[0m\n\u001b[1;32m--> 761\u001b[1;33m     if (self._expects_mask_arg and input_masks is not None and\n\u001b[0m\u001b[0;32m    762\u001b[0m         not self._call_arg_was_passed('mask', args, kwargs)):\n\u001b[0;32m    763\u001b[0m       \u001b[0mmask_arg_passed_by_framework\u001b[0m \u001b[1;33m=\u001b[0m \u001b[1;32mTrue\u001b[0m\u001b[1;33m\u001b[0m\u001b[1;33m\u001b[0m\u001b[0m\n",
      "\u001b[1;31mAttributeError\u001b[0m: 'RNNEncoder' object has no attribute '_expects_mask_arg'"
     ]
    }
   ],
   "source": [
    "import numpy as np\n",
    "import tensorflow as tf\n",
    "# print('wtf')\n",
    "#RNNEncoder = __import__('0-rnn_encoder').RNNEncoder\n",
    "# print('main6')\n",
    "encoder = RNNEncoder(1024, 128, 256, 32)\n",
    "print(encoder.batch)\n",
    "print(encoder.units)\n",
    "print(type(encoder.embedding))\n",
    "print(type(encoder.gru))\n",
    "\n",
    "initial = encoder.initialize_hidden_state()\n",
    "print(initial)\n",
    "x = tf.convert_to_tensor(np.random.choice(1024, 320).reshape((32, 10)))\n",
    "outputs, hidden = encoder(x, initial)\n",
    "print(outputs)\n",
    "print(hidden)"
   ]
  },
  {
   "cell_type": "code",
   "execution_count": null,
   "id": "230ef4f7",
   "metadata": {},
   "outputs": [],
   "source": []
  },
  {
   "cell_type": "code",
   "execution_count": null,
   "id": "7c32181e",
   "metadata": {},
   "outputs": [],
   "source": []
  }
 ],
 "metadata": {
  "kernelspec": {
   "display_name": "tf_gpu_1.15",
   "language": "python",
   "name": "tf_gpu_1.15"
  },
  "language_info": {
   "codemirror_mode": {
    "name": "ipython",
    "version": 3
   },
   "file_extension": ".py",
   "mimetype": "text/x-python",
   "name": "python",
   "nbconvert_exporter": "python",
   "pygments_lexer": "ipython3",
   "version": "3.7.10"
  }
 },
 "nbformat": 4,
 "nbformat_minor": 5
}
